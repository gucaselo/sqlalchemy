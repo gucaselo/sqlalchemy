{
 "cells": [
  {
   "cell_type": "code",
   "execution_count": 1,
   "metadata": {},
   "outputs": [],
   "source": [
    "%matplotlib inline\n",
    "from matplotlib import style\n",
    "style.use('fivethirtyeight')\n",
    "import matplotlib.pyplot as plt"
   ]
  },
  {
   "cell_type": "code",
   "execution_count": 2,
   "metadata": {},
   "outputs": [],
   "source": [
    "import numpy as np\n",
    "import pandas as pd\n",
    "import datetime as dt\n",
    "from datetime import datetime"
   ]
  },
  {
   "cell_type": "markdown",
   "metadata": {},
   "source": [
    "## Reflect Tables into SQLALchemy ORM"
   ]
  },
  {
   "cell_type": "code",
   "execution_count": 3,
   "metadata": {},
   "outputs": [],
   "source": [
    "# Python SQL toolkit and Object Relational Mapper\n",
    "import sqlalchemy\n",
    "from sqlalchemy.ext.automap import automap_base\n",
    "from sqlalchemy.orm import Session\n",
    "from sqlalchemy import create_engine, func, desc"
   ]
  },
  {
   "cell_type": "code",
   "execution_count": 4,
   "metadata": {},
   "outputs": [],
   "source": [
    "# create engine to hawaii.sqlite\n",
    "engine = create_engine(\"sqlite:///../Resources/hawaii.sqlite\")"
   ]
  },
  {
   "cell_type": "code",
   "execution_count": 5,
   "metadata": {},
   "outputs": [],
   "source": [
    "# reflect an existing database into a new model\n",
    "Base = automap_base()\n",
    "\n",
    "# reflect the tables\n",
    "Base.prepare(engine, reflect=True)"
   ]
  },
  {
   "cell_type": "code",
   "execution_count": 6,
   "metadata": {},
   "outputs": [
    {
     "data": {
      "text/plain": [
       "['measurement', 'station']"
      ]
     },
     "execution_count": 6,
     "metadata": {},
     "output_type": "execute_result"
    }
   ],
   "source": [
    "# View all of the classes that automap found\n",
    "Base.classes.keys()"
   ]
  },
  {
   "cell_type": "code",
   "execution_count": 7,
   "metadata": {},
   "outputs": [],
   "source": [
    "# Save references to each table\n",
    "Measurement = Base.classes.measurement\n",
    "Station = Base.classes.station"
   ]
  },
  {
   "cell_type": "code",
   "execution_count": 8,
   "metadata": {},
   "outputs": [],
   "source": [
    "# Create our session (link) from Python to the DB\n",
    "session = Session(engine)"
   ]
  },
  {
   "cell_type": "markdown",
   "metadata": {},
   "source": [
    "### Formatting functions and variables"
   ]
  },
  {
   "cell_type": "code",
   "execution_count": 51,
   "metadata": {},
   "outputs": [],
   "source": [
    "# Degree symbol to be use in print statements\n",
    "degree_sign= u'\\N{DEGREE SIGN}'\n",
    "\n",
    "#Align text to the left\n",
    "def left_align(df):\n",
    "    left_aligned_df = df.style.set_properties(**{'text-align': 'left'}).set_table_styles(\n",
    "        [ dict(selector='th', props=[('text-align', 'left')] ) ])\n",
    "    \n",
    "    return left_aligned_df"
   ]
  },
  {
   "cell_type": "markdown",
   "metadata": {},
   "source": [
    "## Temperature Analysis II"
   ]
  },
  {
   "cell_type": "code",
   "execution_count": 20,
   "metadata": {},
   "outputs": [],
   "source": [
    "# User function take star and and date in the format 'YYYYMMDD' \n",
    "# and return the minimum, maximum, and average temperatures for that range of dates\n",
    "def calc_temps(start, end):\n",
    "    \n",
    "    try:\n",
    "        start_date = datetime.strptime(start, '%Y%m%d')\n",
    "        end_date = datetime.strptime(end, '%Y%m%d')\n",
    "    except:\n",
    "        return (f\"This is the incorrect date format. It should be YYYYMMDD<br/>\")\n",
    "    \n",
    "    start_date = start_date - dt.timedelta(days=365)\n",
    "    end_date = end_date - dt.timedelta(days=365)\n",
    "    \n",
    "    session = Session(engine)\n",
    "    temp_results = session.query(func.min(Measurement.tobs), func.avg(Measurement.tobs),\\\n",
    "                                 func.max(Measurement.tobs)).filter(Measurement.date.between(start_date, end_date)).all()\n",
    "    session.close()\n",
    "\n",
    "    return temp_results"
   ]
  },
  {
   "cell_type": "code",
   "execution_count": 25,
   "metadata": {},
   "outputs": [
    {
     "name": "stdout",
     "output_type": "stream",
     "text": [
      "The Min Temperature for the selected date range is 63.0°F\n",
      "The Avg Temperature for the selected date range is 76.0°F\n",
      "The Max Temperature for the selected date range is 84.0°F\n"
     ]
    }
   ],
   "source": [
    "# Calculate the tmin, tavg, and tmax with calc_temps function\n",
    "temp_results = calc_temps('20151010', '20151110')\n",
    "for tmin, tavg, tmax in temp_results:\n",
    "    print(f\"The Min Temperature for the selected date range is {round(tmin, 1)}{degree_sign}F\")\n",
    "    print(f\"The Avg Temperature for the selected date range is {round(tavg, 1)}{degree_sign}F\")\n",
    "    print(f\"The Max Temperature for the selected date range is {round(tmax, 1)}{degree_sign}F\")"
   ]
  },
  {
   "cell_type": "code",
   "execution_count": 12,
   "metadata": {},
   "outputs": [
    {
     "data": {
      "text/plain": [
       "(0.0, 106.01834862385321)"
      ]
     },
     "execution_count": 12,
     "metadata": {},
     "output_type": "execute_result"
    },
    {
     "data": {
      "image/png": "[encoded data removed]",
      "text/plain": [
       "<Figure size 216x504 with 1 Axes>"
      ]
     },
     "metadata": {},
     "output_type": "display_data"
    }
   ],
   "source": [
    "# Bar Plot with y error bar from the temp_results query\n",
    "for tmin, tavg, tmax in temp_results:\n",
    "        temp_dict = {}\n",
    "        temp_dict['tmin'] = tmin\n",
    "        temp_dict['tavg'] = tavg\n",
    "        temp_dict['tmax'] = tmax\n",
    "\n",
    "temp_info = pd.DataFrame(temp_dict, index=[0]) \n",
    "yerr= [temp_info['tmax'] - temp_info['tmin']]\n",
    "\n",
    "temp_info['tavg'].plot.bar(yerr=yerr, width=0.6, alpha = 0.65, color='coral', figsize=(3, 7))\n",
    "plt.title('Trip Avg Temp')\n",
    "plt.ylabel('Temp (F)')\n",
    "plt.ylim(0, temp_info['tavg'].values+30)"
   ]
  },
  {
   "cell_type": "markdown",
   "metadata": {},
   "source": [
    "### Daily Rainfall Average"
   ]
  },
  {
   "cell_type": "code",
   "execution_count": 56,
   "metadata": {},
   "outputs": [
    {
     "data": {
      "text/plain": [
       "datetime.datetime(2017, 8, 23, 0, 0)"
      ]
     },
     "execution_count": 56,
     "metadata": {},
     "output_type": "execute_result"
    }
   ],
   "source": [
    "session = Session(engine)\n",
    "r_date = session.query(Measurement.date).order_by(Measurement.date.desc()).first()\n",
    "r_date = datetime.strptime(r_date[0], '%Y-%m-%d')\n",
    "r_date"
   ]
  },
  {
   "cell_type": "code",
   "execution_count": 52,
   "metadata": {},
   "outputs": [
    {
     "data": {
      "text/html": [
       "<style  type=\"text/css\" >\n",
       "    #T_76c2d7d8_846a_11eb_bf33_0cdd24d27ceb th {\n",
       "          text-align: left;\n",
       "    }    #T_76c2d7d8_846a_11eb_bf33_0cdd24d27cebrow0_col0 {\n",
       "            text-align:  left;\n",
       "        }    #T_76c2d7d8_846a_11eb_bf33_0cdd24d27cebrow0_col1 {\n",
       "            text-align:  left;\n",
       "        }    #T_76c2d7d8_846a_11eb_bf33_0cdd24d27cebrow0_col2 {\n",
       "            text-align:  left;\n",
       "        }    #T_76c2d7d8_846a_11eb_bf33_0cdd24d27cebrow0_col3 {\n",
       "            text-align:  left;\n",
       "        }    #T_76c2d7d8_846a_11eb_bf33_0cdd24d27cebrow0_col4 {\n",
       "            text-align:  left;\n",
       "        }    #T_76c2d7d8_846a_11eb_bf33_0cdd24d27cebrow0_col5 {\n",
       "            text-align:  left;\n",
       "        }    #T_76c2d7d8_846a_11eb_bf33_0cdd24d27cebrow0_col6 {\n",
       "            text-align:  left;\n",
       "        }    #T_76c2d7d8_846a_11eb_bf33_0cdd24d27cebrow1_col0 {\n",
       "            text-align:  left;\n",
       "        }    #T_76c2d7d8_846a_11eb_bf33_0cdd24d27cebrow1_col1 {\n",
       "            text-align:  left;\n",
       "        }    #T_76c2d7d8_846a_11eb_bf33_0cdd24d27cebrow1_col2 {\n",
       "            text-align:  left;\n",
       "        }    #T_76c2d7d8_846a_11eb_bf33_0cdd24d27cebrow1_col3 {\n",
       "            text-align:  left;\n",
       "        }    #T_76c2d7d8_846a_11eb_bf33_0cdd24d27cebrow1_col4 {\n",
       "            text-align:  left;\n",
       "        }    #T_76c2d7d8_846a_11eb_bf33_0cdd24d27cebrow1_col5 {\n",
       "            text-align:  left;\n",
       "        }    #T_76c2d7d8_846a_11eb_bf33_0cdd24d27cebrow1_col6 {\n",
       "            text-align:  left;\n",
       "        }    #T_76c2d7d8_846a_11eb_bf33_0cdd24d27cebrow2_col0 {\n",
       "            text-align:  left;\n",
       "        }    #T_76c2d7d8_846a_11eb_bf33_0cdd24d27cebrow2_col1 {\n",
       "            text-align:  left;\n",
       "        }    #T_76c2d7d8_846a_11eb_bf33_0cdd24d27cebrow2_col2 {\n",
       "            text-align:  left;\n",
       "        }    #T_76c2d7d8_846a_11eb_bf33_0cdd24d27cebrow2_col3 {\n",
       "            text-align:  left;\n",
       "        }    #T_76c2d7d8_846a_11eb_bf33_0cdd24d27cebrow2_col4 {\n",
       "            text-align:  left;\n",
       "        }    #T_76c2d7d8_846a_11eb_bf33_0cdd24d27cebrow2_col5 {\n",
       "            text-align:  left;\n",
       "        }    #T_76c2d7d8_846a_11eb_bf33_0cdd24d27cebrow2_col6 {\n",
       "            text-align:  left;\n",
       "        }    #T_76c2d7d8_846a_11eb_bf33_0cdd24d27cebrow3_col0 {\n",
       "            text-align:  left;\n",
       "        }    #T_76c2d7d8_846a_11eb_bf33_0cdd24d27cebrow3_col1 {\n",
       "            text-align:  left;\n",
       "        }    #T_76c2d7d8_846a_11eb_bf33_0cdd24d27cebrow3_col2 {\n",
       "            text-align:  left;\n",
       "        }    #T_76c2d7d8_846a_11eb_bf33_0cdd24d27cebrow3_col3 {\n",
       "            text-align:  left;\n",
       "        }    #T_76c2d7d8_846a_11eb_bf33_0cdd24d27cebrow3_col4 {\n",
       "            text-align:  left;\n",
       "        }    #T_76c2d7d8_846a_11eb_bf33_0cdd24d27cebrow3_col5 {\n",
       "            text-align:  left;\n",
       "        }    #T_76c2d7d8_846a_11eb_bf33_0cdd24d27cebrow3_col6 {\n",
       "            text-align:  left;\n",
       "        }    #T_76c2d7d8_846a_11eb_bf33_0cdd24d27cebrow4_col0 {\n",
       "            text-align:  left;\n",
       "        }    #T_76c2d7d8_846a_11eb_bf33_0cdd24d27cebrow4_col1 {\n",
       "            text-align:  left;\n",
       "        }    #T_76c2d7d8_846a_11eb_bf33_0cdd24d27cebrow4_col2 {\n",
       "            text-align:  left;\n",
       "        }    #T_76c2d7d8_846a_11eb_bf33_0cdd24d27cebrow4_col3 {\n",
       "            text-align:  left;\n",
       "        }    #T_76c2d7d8_846a_11eb_bf33_0cdd24d27cebrow4_col4 {\n",
       "            text-align:  left;\n",
       "        }    #T_76c2d7d8_846a_11eb_bf33_0cdd24d27cebrow4_col5 {\n",
       "            text-align:  left;\n",
       "        }    #T_76c2d7d8_846a_11eb_bf33_0cdd24d27cebrow4_col6 {\n",
       "            text-align:  left;\n",
       "        }    #T_76c2d7d8_846a_11eb_bf33_0cdd24d27cebrow5_col0 {\n",
       "            text-align:  left;\n",
       "        }    #T_76c2d7d8_846a_11eb_bf33_0cdd24d27cebrow5_col1 {\n",
       "            text-align:  left;\n",
       "        }    #T_76c2d7d8_846a_11eb_bf33_0cdd24d27cebrow5_col2 {\n",
       "            text-align:  left;\n",
       "        }    #T_76c2d7d8_846a_11eb_bf33_0cdd24d27cebrow5_col3 {\n",
       "            text-align:  left;\n",
       "        }    #T_76c2d7d8_846a_11eb_bf33_0cdd24d27cebrow5_col4 {\n",
       "            text-align:  left;\n",
       "        }    #T_76c2d7d8_846a_11eb_bf33_0cdd24d27cebrow5_col5 {\n",
       "            text-align:  left;\n",
       "        }    #T_76c2d7d8_846a_11eb_bf33_0cdd24d27cebrow5_col6 {\n",
       "            text-align:  left;\n",
       "        }    #T_76c2d7d8_846a_11eb_bf33_0cdd24d27cebrow6_col0 {\n",
       "            text-align:  left;\n",
       "        }    #T_76c2d7d8_846a_11eb_bf33_0cdd24d27cebrow6_col1 {\n",
       "            text-align:  left;\n",
       "        }    #T_76c2d7d8_846a_11eb_bf33_0cdd24d27cebrow6_col2 {\n",
       "            text-align:  left;\n",
       "        }    #T_76c2d7d8_846a_11eb_bf33_0cdd24d27cebrow6_col3 {\n",
       "            text-align:  left;\n",
       "        }    #T_76c2d7d8_846a_11eb_bf33_0cdd24d27cebrow6_col4 {\n",
       "            text-align:  left;\n",
       "        }    #T_76c2d7d8_846a_11eb_bf33_0cdd24d27cebrow6_col5 {\n",
       "            text-align:  left;\n",
       "        }    #T_76c2d7d8_846a_11eb_bf33_0cdd24d27cebrow6_col6 {\n",
       "            text-align:  left;\n",
       "        }</style><table id=\"T_76c2d7d8_846a_11eb_bf33_0cdd24d27ceb\" ><thead>    <tr>        <th class=\"blank level0\" ></th>        <th class=\"col_heading level0 col0\" >station</th>        <th class=\"col_heading level0 col1\" >name</th>        <th class=\"col_heading level0 col2\" >total_prcp</th>        <th class=\"col_heading level0 col3\" >date</th>        <th class=\"col_heading level0 col4\" >latitude</th>        <th class=\"col_heading level0 col5\" >longitude</th>        <th class=\"col_heading level0 col6\" >elevation</th>    </tr></thead><tbody>\n",
       "                <tr>\n",
       "                        <th id=\"T_76c2d7d8_846a_11eb_bf33_0cdd24d27ceblevel0_row0\" class=\"row_heading level0 row0\" >0</th>\n",
       "                        <td id=\"T_76c2d7d8_846a_11eb_bf33_0cdd24d27cebrow0_col0\" class=\"data row0 col0\" >USC00516128</td>\n",
       "                        <td id=\"T_76c2d7d8_846a_11eb_bf33_0cdd24d27cebrow0_col1\" class=\"data row0 col1\" >MANOA LYON ARBO 785.2, HI US</td>\n",
       "                        <td id=\"T_76c2d7d8_846a_11eb_bf33_0cdd24d27cebrow0_col2\" class=\"data row0 col2\" >8.260000</td>\n",
       "                        <td id=\"T_76c2d7d8_846a_11eb_bf33_0cdd24d27cebrow0_col3\" class=\"data row0 col3\" >2016-04-12</td>\n",
       "                        <td id=\"T_76c2d7d8_846a_11eb_bf33_0cdd24d27cebrow0_col4\" class=\"data row0 col4\" >21.333100</td>\n",
       "                        <td id=\"T_76c2d7d8_846a_11eb_bf33_0cdd24d27cebrow0_col5\" class=\"data row0 col5\" >-157.802500</td>\n",
       "                        <td id=\"T_76c2d7d8_846a_11eb_bf33_0cdd24d27cebrow0_col6\" class=\"data row0 col6\" >152.400000</td>\n",
       "            </tr>\n",
       "            <tr>\n",
       "                        <th id=\"T_76c2d7d8_846a_11eb_bf33_0cdd24d27ceblevel0_row1\" class=\"row_heading level0 row1\" >1</th>\n",
       "                        <td id=\"T_76c2d7d8_846a_11eb_bf33_0cdd24d27cebrow1_col0\" class=\"data row1 col0\" >USC00519281</td>\n",
       "                        <td id=\"T_76c2d7d8_846a_11eb_bf33_0cdd24d27cebrow1_col1\" class=\"data row1 col1\" >WAIHEE 837.5, HI US</td>\n",
       "                        <td id=\"T_76c2d7d8_846a_11eb_bf33_0cdd24d27cebrow1_col2\" class=\"data row1 col2\" >1.420000</td>\n",
       "                        <td id=\"T_76c2d7d8_846a_11eb_bf33_0cdd24d27cebrow1_col3\" class=\"data row1 col3\" >2016-04-12</td>\n",
       "                        <td id=\"T_76c2d7d8_846a_11eb_bf33_0cdd24d27cebrow1_col4\" class=\"data row1 col4\" >21.451670</td>\n",
       "                        <td id=\"T_76c2d7d8_846a_11eb_bf33_0cdd24d27cebrow1_col5\" class=\"data row1 col5\" >-157.848890</td>\n",
       "                        <td id=\"T_76c2d7d8_846a_11eb_bf33_0cdd24d27cebrow1_col6\" class=\"data row1 col6\" >32.900000</td>\n",
       "            </tr>\n",
       "            <tr>\n",
       "                        <th id=\"T_76c2d7d8_846a_11eb_bf33_0cdd24d27ceblevel0_row2\" class=\"row_heading level0 row2\" >2</th>\n",
       "                        <td id=\"T_76c2d7d8_846a_11eb_bf33_0cdd24d27cebrow2_col0\" class=\"data row2 col0\" >USC00519523</td>\n",
       "                        <td id=\"T_76c2d7d8_846a_11eb_bf33_0cdd24d27cebrow2_col1\" class=\"data row2 col1\" >WAIMANALO EXPERIMENTAL FARM, HI US</td>\n",
       "                        <td id=\"T_76c2d7d8_846a_11eb_bf33_0cdd24d27cebrow2_col2\" class=\"data row2 col2\" >0.850000</td>\n",
       "                        <td id=\"T_76c2d7d8_846a_11eb_bf33_0cdd24d27cebrow2_col3\" class=\"data row2 col3\" >2016-04-12</td>\n",
       "                        <td id=\"T_76c2d7d8_846a_11eb_bf33_0cdd24d27cebrow2_col4\" class=\"data row2 col4\" >21.335560</td>\n",
       "                        <td id=\"T_76c2d7d8_846a_11eb_bf33_0cdd24d27cebrow2_col5\" class=\"data row2 col5\" >-157.711390</td>\n",
       "                        <td id=\"T_76c2d7d8_846a_11eb_bf33_0cdd24d27cebrow2_col6\" class=\"data row2 col6\" >19.500000</td>\n",
       "            </tr>\n",
       "            <tr>\n",
       "                        <th id=\"T_76c2d7d8_846a_11eb_bf33_0cdd24d27ceblevel0_row3\" class=\"row_heading level0 row3\" >3</th>\n",
       "                        <td id=\"T_76c2d7d8_846a_11eb_bf33_0cdd24d27cebrow3_col0\" class=\"data row3 col0\" >USC00513117</td>\n",
       "                        <td id=\"T_76c2d7d8_846a_11eb_bf33_0cdd24d27cebrow3_col1\" class=\"data row3 col1\" >KANEOHE 838.1, HI US</td>\n",
       "                        <td id=\"T_76c2d7d8_846a_11eb_bf33_0cdd24d27cebrow3_col2\" class=\"data row3 col2\" >0.740000</td>\n",
       "                        <td id=\"T_76c2d7d8_846a_11eb_bf33_0cdd24d27cebrow3_col3\" class=\"data row3 col3\" >2016-04-12</td>\n",
       "                        <td id=\"T_76c2d7d8_846a_11eb_bf33_0cdd24d27cebrow3_col4\" class=\"data row3 col4\" >21.423400</td>\n",
       "                        <td id=\"T_76c2d7d8_846a_11eb_bf33_0cdd24d27cebrow3_col5\" class=\"data row3 col5\" >-157.801500</td>\n",
       "                        <td id=\"T_76c2d7d8_846a_11eb_bf33_0cdd24d27cebrow3_col6\" class=\"data row3 col6\" >14.600000</td>\n",
       "            </tr>\n",
       "            <tr>\n",
       "                        <th id=\"T_76c2d7d8_846a_11eb_bf33_0cdd24d27ceblevel0_row4\" class=\"row_heading level0 row4\" >4</th>\n",
       "                        <td id=\"T_76c2d7d8_846a_11eb_bf33_0cdd24d27cebrow4_col0\" class=\"data row4 col0\" >USC00514830</td>\n",
       "                        <td id=\"T_76c2d7d8_846a_11eb_bf33_0cdd24d27cebrow4_col1\" class=\"data row4 col1\" >KUALOA RANCH HEADQUARTERS 886.9, HI US</td>\n",
       "                        <td id=\"T_76c2d7d8_846a_11eb_bf33_0cdd24d27cebrow4_col2\" class=\"data row4 col2\" >0.540000</td>\n",
       "                        <td id=\"T_76c2d7d8_846a_11eb_bf33_0cdd24d27cebrow4_col3\" class=\"data row4 col3\" >2016-04-12</td>\n",
       "                        <td id=\"T_76c2d7d8_846a_11eb_bf33_0cdd24d27cebrow4_col4\" class=\"data row4 col4\" >21.521300</td>\n",
       "                        <td id=\"T_76c2d7d8_846a_11eb_bf33_0cdd24d27cebrow4_col5\" class=\"data row4 col5\" >-157.837400</td>\n",
       "                        <td id=\"T_76c2d7d8_846a_11eb_bf33_0cdd24d27cebrow4_col6\" class=\"data row4 col6\" >7.000000</td>\n",
       "            </tr>\n",
       "            <tr>\n",
       "                        <th id=\"T_76c2d7d8_846a_11eb_bf33_0cdd24d27ceblevel0_row5\" class=\"row_heading level0 row5\" >5</th>\n",
       "                        <td id=\"T_76c2d7d8_846a_11eb_bf33_0cdd24d27cebrow5_col0\" class=\"data row5 col0\" >USC00519397</td>\n",
       "                        <td id=\"T_76c2d7d8_846a_11eb_bf33_0cdd24d27cebrow5_col1\" class=\"data row5 col1\" >WAIKIKI 717.2, HI US</td>\n",
       "                        <td id=\"T_76c2d7d8_846a_11eb_bf33_0cdd24d27cebrow5_col2\" class=\"data row5 col2\" >0.330000</td>\n",
       "                        <td id=\"T_76c2d7d8_846a_11eb_bf33_0cdd24d27cebrow5_col3\" class=\"data row5 col3\" >2016-04-12</td>\n",
       "                        <td id=\"T_76c2d7d8_846a_11eb_bf33_0cdd24d27cebrow5_col4\" class=\"data row5 col4\" >21.271600</td>\n",
       "                        <td id=\"T_76c2d7d8_846a_11eb_bf33_0cdd24d27cebrow5_col5\" class=\"data row5 col5\" >-157.816800</td>\n",
       "                        <td id=\"T_76c2d7d8_846a_11eb_bf33_0cdd24d27cebrow5_col6\" class=\"data row5 col6\" >3.000000</td>\n",
       "            </tr>\n",
       "            <tr>\n",
       "                        <th id=\"T_76c2d7d8_846a_11eb_bf33_0cdd24d27ceblevel0_row6\" class=\"row_heading level0 row6\" >6</th>\n",
       "                        <td id=\"T_76c2d7d8_846a_11eb_bf33_0cdd24d27cebrow6_col0\" class=\"data row6 col0\" >USC00517948</td>\n",
       "                        <td id=\"T_76c2d7d8_846a_11eb_bf33_0cdd24d27cebrow6_col1\" class=\"data row6 col1\" >PEARL CITY, HI US</td>\n",
       "                        <td id=\"T_76c2d7d8_846a_11eb_bf33_0cdd24d27cebrow6_col2\" class=\"data row6 col2\" >nan</td>\n",
       "                        <td id=\"T_76c2d7d8_846a_11eb_bf33_0cdd24d27cebrow6_col3\" class=\"data row6 col3\" >2016-04-18</td>\n",
       "                        <td id=\"T_76c2d7d8_846a_11eb_bf33_0cdd24d27cebrow6_col4\" class=\"data row6 col4\" >21.393400</td>\n",
       "                        <td id=\"T_76c2d7d8_846a_11eb_bf33_0cdd24d27cebrow6_col5\" class=\"data row6 col5\" >-157.975100</td>\n",
       "                        <td id=\"T_76c2d7d8_846a_11eb_bf33_0cdd24d27cebrow6_col6\" class=\"data row6 col6\" >11.900000</td>\n",
       "            </tr>\n",
       "    </tbody></table>"
      ],
      "text/plain": [
       "<pandas.io.formats.style.Styler at 0x1555438d128>"
      ]
     },
     "execution_count": 52,
     "metadata": {},
     "output_type": "execute_result"
    }
   ],
   "source": [
    "# Query the total amount of rainfall (precipitation) per weather station for trip dates using the previous year's \n",
    "# matching dates.\n",
    "\n",
    "# Trip dates\n",
    "trip_start = '2017-04-11'\n",
    "trip_end = '2017-04-18'\n",
    "\n",
    "# Format dates and substract a year to be used for historical data\n",
    "trip_start = datetime.strptime(trip_start, '%Y-%m-%d') - dt.timedelta(days=365)\n",
    "trip_end = datetime.strptime(trip_end, '%Y-%m-%d') - dt.timedelta(days=365)\n",
    "\n",
    "session = Session(engine)\n",
    "\n",
    "# Query total amount of rainfall per\n",
    "rainfall = session.query(Measurement.station, Station.name, func.sum(Measurement.prcp), Measurement.date, Station.latitude, \\\n",
    "                         Station.longitude, Station.elevation).filter(Measurement.station == Station.station). \\\n",
    "                         filter(Measurement.date >= trip_start).filter(Measurement.date <= trip_end). \\\n",
    "                         order_by(desc(func.sum(Measurement.prcp))).group_by(Measurement.station).all()\n",
    "\n",
    "# Create DataFrame\n",
    "rainfall_list = []\n",
    "for station, name, prcp, date, lat, lng, elevation in rainfall:\n",
    "    rainfall_dict = {}\n",
    "    rainfall_dict['station'] = station\n",
    "    rainfall_dict['name'] = name\n",
    "    rainfall_dict['total_prcp'] = prcp\n",
    "    rainfall_dict['date'] = date\n",
    "    rainfall_dict['latitude'] = lat\n",
    "    rainfall_dict['longitude'] = lng\n",
    "    rainfall_dict['elevation'] = elevation\n",
    "    rainfall_list.append(rainfall_dict)\n",
    "rainfall_df = pd.DataFrame(rainfall_list)\n",
    "\n",
    "left_align(rainfall_df)"
   ]
  },
  {
   "cell_type": "code",
   "execution_count": 54,
   "metadata": {},
   "outputs": [],
   "source": [
    "# Create function to calculate the daily normals \n",
    "def daily_normals(start, end):\n",
    "\n",
    "    try:\n",
    "        # Format dates and strip year\n",
    "        start_date = datetime.strptime(start, '%Y-%m-%d').strftime(\"%m-%d\")\n",
    "        end_date = datetime.strptime(end, '%Y-%m-%d').strftime(\"%m-%d\")\n",
    "\n",
    "    except:\n",
    "        return (f\"This is the incorrect date format. It should be YYYY-MM-DD<br/>\")\n",
    "    \n",
    "    session = Session(engine)    \n",
    "    \n",
    "    # Query\n",
    "    daily_normals = session.query(Measurement.date, func.min(Measurement.tobs), func.avg(Measurement.tobs), \\\n",
    "                                  func.max(Measurement.tobs)).filter(func.strftime(\"%m-%d\", Measurement.date) >= start_date).filter(func.strftime(\"%m-%d\", Measurement.date) <= end_date).group_by(func.strftime(\"%m-%d\", Measurement.date)).all()\n",
    "\n",
    "    session.close()\n",
    "    \n",
    "    # Create DataFrame with query results\n",
    "    normals_list = []\n",
    "    for date, tmin, tavg, tmax in daily_normals:\n",
    "        normals_dict = {}\n",
    "        normals_dict['date'] = date\n",
    "        normals_dict['tmin'] = tmin\n",
    "        normals_dict['tavg'] = tavg\n",
    "        normals_dict['tmax'] = tmax\n",
    "        normals_list.append(normals_dict)\n",
    "\n",
    "    normals_df = pd.DataFrame(normals_list)\n",
    "    \n",
    "    return normals_df"
   ]
  },
  {
   "cell_type": "code",
   "execution_count": 53,
   "metadata": {},
   "outputs": [
    {
     "data": {
      "text/html": [
       "<style  type=\"text/css\" >\n",
       "    #T_0788b7ba_846b_11eb_8ea8_0cdd24d27ceb th {\n",
       "          text-align: left;\n",
       "    }    #T_0788b7ba_846b_11eb_8ea8_0cdd24d27cebrow0_col0 {\n",
       "            text-align:  left;\n",
       "        }    #T_0788b7ba_846b_11eb_8ea8_0cdd24d27cebrow0_col1 {\n",
       "            text-align:  left;\n",
       "        }    #T_0788b7ba_846b_11eb_8ea8_0cdd24d27cebrow0_col2 {\n",
       "            text-align:  left;\n",
       "        }    #T_0788b7ba_846b_11eb_8ea8_0cdd24d27cebrow1_col0 {\n",
       "            text-align:  left;\n",
       "        }    #T_0788b7ba_846b_11eb_8ea8_0cdd24d27cebrow1_col1 {\n",
       "            text-align:  left;\n",
       "        }    #T_0788b7ba_846b_11eb_8ea8_0cdd24d27cebrow1_col2 {\n",
       "            text-align:  left;\n",
       "        }    #T_0788b7ba_846b_11eb_8ea8_0cdd24d27cebrow2_col0 {\n",
       "            text-align:  left;\n",
       "        }    #T_0788b7ba_846b_11eb_8ea8_0cdd24d27cebrow2_col1 {\n",
       "            text-align:  left;\n",
       "        }    #T_0788b7ba_846b_11eb_8ea8_0cdd24d27cebrow2_col2 {\n",
       "            text-align:  left;\n",
       "        }    #T_0788b7ba_846b_11eb_8ea8_0cdd24d27cebrow3_col0 {\n",
       "            text-align:  left;\n",
       "        }    #T_0788b7ba_846b_11eb_8ea8_0cdd24d27cebrow3_col1 {\n",
       "            text-align:  left;\n",
       "        }    #T_0788b7ba_846b_11eb_8ea8_0cdd24d27cebrow3_col2 {\n",
       "            text-align:  left;\n",
       "        }    #T_0788b7ba_846b_11eb_8ea8_0cdd24d27cebrow4_col0 {\n",
       "            text-align:  left;\n",
       "        }    #T_0788b7ba_846b_11eb_8ea8_0cdd24d27cebrow4_col1 {\n",
       "            text-align:  left;\n",
       "        }    #T_0788b7ba_846b_11eb_8ea8_0cdd24d27cebrow4_col2 {\n",
       "            text-align:  left;\n",
       "        }    #T_0788b7ba_846b_11eb_8ea8_0cdd24d27cebrow5_col0 {\n",
       "            text-align:  left;\n",
       "        }    #T_0788b7ba_846b_11eb_8ea8_0cdd24d27cebrow5_col1 {\n",
       "            text-align:  left;\n",
       "        }    #T_0788b7ba_846b_11eb_8ea8_0cdd24d27cebrow5_col2 {\n",
       "            text-align:  left;\n",
       "        }    #T_0788b7ba_846b_11eb_8ea8_0cdd24d27cebrow6_col0 {\n",
       "            text-align:  left;\n",
       "        }    #T_0788b7ba_846b_11eb_8ea8_0cdd24d27cebrow6_col1 {\n",
       "            text-align:  left;\n",
       "        }    #T_0788b7ba_846b_11eb_8ea8_0cdd24d27cebrow6_col2 {\n",
       "            text-align:  left;\n",
       "        }</style><table id=\"T_0788b7ba_846b_11eb_8ea8_0cdd24d27ceb\" ><thead>    <tr>        <th class=\"blank level0\" ></th>        <th class=\"col_heading level0 col0\" >tmin</th>        <th class=\"col_heading level0 col1\" >tavg</th>        <th class=\"col_heading level0 col2\" >tmax</th>    </tr>    <tr>        <th class=\"index_name level0\" >date</th>        <th class=\"blank\" ></th>        <th class=\"blank\" ></th>        <th class=\"blank\" ></th>    </tr></thead><tbody>\n",
       "                <tr>\n",
       "                        <th id=\"T_0788b7ba_846b_11eb_8ea8_0cdd24d27ceblevel0_row0\" class=\"row_heading level0 row0\" >2014-08-01</th>\n",
       "                        <td id=\"T_0788b7ba_846b_11eb_8ea8_0cdd24d27cebrow0_col0\" class=\"data row0 col0\" >67.000000</td>\n",
       "                        <td id=\"T_0788b7ba_846b_11eb_8ea8_0cdd24d27cebrow0_col1\" class=\"data row0 col1\" >75.540000</td>\n",
       "                        <td id=\"T_0788b7ba_846b_11eb_8ea8_0cdd24d27cebrow0_col2\" class=\"data row0 col2\" >83.000000</td>\n",
       "            </tr>\n",
       "            <tr>\n",
       "                        <th id=\"T_0788b7ba_846b_11eb_8ea8_0cdd24d27ceblevel0_row1\" class=\"row_heading level0 row1\" >2015-08-02</th>\n",
       "                        <td id=\"T_0788b7ba_846b_11eb_8ea8_0cdd24d27cebrow1_col0\" class=\"data row1 col0\" >68.000000</td>\n",
       "                        <td id=\"T_0788b7ba_846b_11eb_8ea8_0cdd24d27cebrow1_col1\" class=\"data row1 col1\" >75.603774</td>\n",
       "                        <td id=\"T_0788b7ba_846b_11eb_8ea8_0cdd24d27cebrow1_col2\" class=\"data row1 col2\" >84.000000</td>\n",
       "            </tr>\n",
       "            <tr>\n",
       "                        <th id=\"T_0788b7ba_846b_11eb_8ea8_0cdd24d27ceblevel0_row2\" class=\"row_heading level0 row2\" >2015-08-03</th>\n",
       "                        <td id=\"T_0788b7ba_846b_11eb_8ea8_0cdd24d27cebrow2_col0\" class=\"data row2 col0\" >70.000000</td>\n",
       "                        <td id=\"T_0788b7ba_846b_11eb_8ea8_0cdd24d27cebrow2_col1\" class=\"data row2 col1\" >76.611111</td>\n",
       "                        <td id=\"T_0788b7ba_846b_11eb_8ea8_0cdd24d27cebrow2_col2\" class=\"data row2 col2\" >85.000000</td>\n",
       "            </tr>\n",
       "            <tr>\n",
       "                        <th id=\"T_0788b7ba_846b_11eb_8ea8_0cdd24d27ceblevel0_row3\" class=\"row_heading level0 row3\" >2015-08-04</th>\n",
       "                        <td id=\"T_0788b7ba_846b_11eb_8ea8_0cdd24d27cebrow3_col0\" class=\"data row3 col0\" >69.000000</td>\n",
       "                        <td id=\"T_0788b7ba_846b_11eb_8ea8_0cdd24d27cebrow3_col1\" class=\"data row3 col1\" >76.711538</td>\n",
       "                        <td id=\"T_0788b7ba_846b_11eb_8ea8_0cdd24d27cebrow3_col2\" class=\"data row3 col2\" >84.000000</td>\n",
       "            </tr>\n",
       "            <tr>\n",
       "                        <th id=\"T_0788b7ba_846b_11eb_8ea8_0cdd24d27ceblevel0_row4\" class=\"row_heading level0 row4\" >2015-08-05</th>\n",
       "                        <td id=\"T_0788b7ba_846b_11eb_8ea8_0cdd24d27cebrow4_col0\" class=\"data row4 col0\" >69.000000</td>\n",
       "                        <td id=\"T_0788b7ba_846b_11eb_8ea8_0cdd24d27cebrow4_col1\" class=\"data row4 col1\" >76.148148</td>\n",
       "                        <td id=\"T_0788b7ba_846b_11eb_8ea8_0cdd24d27cebrow4_col2\" class=\"data row4 col2\" >82.000000</td>\n",
       "            </tr>\n",
       "            <tr>\n",
       "                        <th id=\"T_0788b7ba_846b_11eb_8ea8_0cdd24d27ceblevel0_row5\" class=\"row_heading level0 row5\" >2017-08-06</th>\n",
       "                        <td id=\"T_0788b7ba_846b_11eb_8ea8_0cdd24d27cebrow5_col0\" class=\"data row5 col0\" >67.000000</td>\n",
       "                        <td id=\"T_0788b7ba_846b_11eb_8ea8_0cdd24d27cebrow5_col1\" class=\"data row5 col1\" >76.250000</td>\n",
       "                        <td id=\"T_0788b7ba_846b_11eb_8ea8_0cdd24d27cebrow5_col2\" class=\"data row5 col2\" >83.000000</td>\n",
       "            </tr>\n",
       "            <tr>\n",
       "                        <th id=\"T_0788b7ba_846b_11eb_8ea8_0cdd24d27ceblevel0_row6\" class=\"row_heading level0 row6\" >2016-08-07</th>\n",
       "                        <td id=\"T_0788b7ba_846b_11eb_8ea8_0cdd24d27cebrow6_col0\" class=\"data row6 col0\" >71.000000</td>\n",
       "                        <td id=\"T_0788b7ba_846b_11eb_8ea8_0cdd24d27cebrow6_col1\" class=\"data row6 col1\" >77.156863</td>\n",
       "                        <td id=\"T_0788b7ba_846b_11eb_8ea8_0cdd24d27cebrow6_col2\" class=\"data row6 col2\" >83.000000</td>\n",
       "            </tr>\n",
       "    </tbody></table>"
      ],
      "text/plain": [
       "<pandas.io.formats.style.Styler at 0x155541f9898>"
      ]
     },
     "execution_count": 53,
     "metadata": {},
     "output_type": "execute_result"
    }
   ],
   "source": [
    "# Calculate the daily normals using the daily_normals function\n",
    "\n",
    "# Start and end date of the trip\n",
    "start_date = '2017-08-01'\n",
    "end_date = '2017-08-07'\n",
    "\n",
    "# Query\n",
    "normals_df = daily_normals(start_date, end_date)\n",
    "\n",
    "# Set date column as index\n",
    "normals_df.set_index('date', inplace =True)\n",
    "\n",
    "# Left aligned DataFrame\n",
    "left_align(normals_df)"
   ]
  },
  {
   "cell_type": "code",
   "execution_count": 17,
   "metadata": {},
   "outputs": [
    {
     "data": {
      "text/plain": [
       "<matplotlib.axes._subplots.AxesSubplot at 0x1555311a518>"
      ]
     },
     "execution_count": 17,
     "metadata": {},
     "output_type": "execute_result"
    },
    {
     "data": {
      "image/png": "[encoded data removed]",
      "text/plain": [
       "<Figure size 432x288 with 1 Axes>"
      ]
     },
     "metadata": {},
     "output_type": "display_data"
    }
   ],
   "source": [
    "# Plot the daily normals as an area plot with `stacked=False`\n",
    "normals_df.plot(kind='area', stacked=False, rot=90)"
   ]
  },
  {
   "cell_type": "markdown",
   "metadata": {},
   "source": [
    "## Close Session"
   ]
  },
  {
   "cell_type": "code",
   "execution_count": null,
   "metadata": {},
   "outputs": [],
   "source": [
    "session.close()"
   ]
  },
  {
   "cell_type": "code",
   "execution_count": null,
   "metadata": {},
   "outputs": [],
   "source": []
  }
 ],
 "metadata": {
  "kernelspec": {
   "display_name": "Python 3",
   "language": "python",
   "name": "python3"
  },
  "language_info": {
   "codemirror_mode": {
    "name": "ipython",
    "version": 3
   },
   "file_extension": ".py",
   "mimetype": "text/x-python",
   "name": "python",
   "nbconvert_exporter": "python",
   "pygments_lexer": "ipython3",
   "version": "3.6.10"
  }
 },
 "nbformat": 4,
 "nbformat_minor": 4
}
